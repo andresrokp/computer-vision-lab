{
  "nbformat": 4,
  "nbformat_minor": 0,
  "metadata": {
    "colab": {
      "name": "scrapper-web.ipynb",
      "provenance": [],
      "collapsed_sections": []
    },
    "kernelspec": {
      "name": "python3",
      "display_name": "Python 3"
    },
    "language_info": {
      "name": "python"
    }
  },
  "cells": [
    {
      "cell_type": "code",
      "execution_count": null,
      "metadata": {
        "id": "W7Un6zc-Z4sK"
      },
      "outputs": [],
      "source": [
        "print(\"Hello Colab\")"
      ]
    },
    {
      "cell_type": "code",
      "source": [
        "from google.colab import drive\n",
        "drive.mount('/content/drive')"
      ],
      "metadata": {
        "id": "vaYVGrJ2Z9HO"
      },
      "execution_count": null,
      "outputs": []
    },
    {
      "cell_type": "code",
      "source": [
        "!sudo apt-get install chromium-chromedriver\n",
        "!pip install google_images_download\n",
        "!pip install selenium\n",
        "!git clone https://github.com/ultralytics/google-images-download\n",
        "%cd google-images-download"
      ],
      "metadata": {
        "id": "bkjbBGsjdC5Z"
      },
      "execution_count": null,
      "outputs": []
    },
    {
      "cell_type": "code",
      "source": [
        "!python3 bing_scraper.py --search 'oxxo building' --limit 100 --download --chromedriver /usr/lib/chromium-browser/chromedriver\n"
      ],
      "metadata": {
        "id": "76PROeLUo1oC"
      },
      "execution_count": null,
      "outputs": []
    },
    {
      "cell_type": "code",
      "source": [
        "!python3 bing_scraper.py --search 'entrada oxxo' --limit 100 --download --chromedriver /usr/lib/chromium-browser/chromedriver\n",
        "!python3 bing_scraper.py --search 'oxxo fachada' --limit 100 --download --chromedriver /usr/lib/chromium-browser/chromedriver"
      ],
      "metadata": {
        "id": "cTmYbgL1Ijqd"
      },
      "execution_count": null,
      "outputs": []
    },
    {
      "cell_type": "code",
      "source": [
        "!ls\n",
        "print('\\n - -')\n",
        "!ls images"
      ],
      "metadata": {
        "id": "GgpicLQvvPLC"
      },
      "execution_count": null,
      "outputs": []
    },
    {
      "cell_type": "code",
      "source": [
        "!zip -r scraped_img.zip images"
      ],
      "metadata": {
        "id": "__FNYzO8sEh8"
      },
      "execution_count": null,
      "outputs": []
    },
    {
      "cell_type": "code",
      "source": [
        "!cp scraped_img.zip \"/content/drive/MyDrive/TermoF/Custom YOLO/el vale latino/YOLO/custom/data\""
      ],
      "metadata": {
        "id": "-gbvgtss0J0b"
      },
      "execution_count": null,
      "outputs": []
    },
    {
      "cell_type": "code",
      "source": [
        ""
      ],
      "metadata": {
        "id": "K2oEU-mvMH6o"
      },
      "execution_count": null,
      "outputs": []
    }
  ]
}